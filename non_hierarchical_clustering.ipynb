{
 "cells": [
  {
   "cell_type": "markdown",
   "metadata": {},
   "source": [
    "# Non-Hierarchical Clustering: Comparison between K-Means and DBSCAN"
   ]
  },
  {
   "cell_type": "markdown",
   "metadata": {},
   "source": [
    "Unsupervised learning is a type of machine learning algorithm used to draw inferences from datasets consisting of input data without labeled responses. The most common unsupervised learning method is cluster analysis, which is used for exploratory data analysis to find hidden patterns or grouping in data. In other words, cluster analysis or clustering is the task of grouping a set of objects in such a way that objects in the same group (called a cluster) are more similar (in some sense) to each other than to those in other groups (clusters).\n",
    "\n",
    "Hierarchical clustering (also known as connectivity-based clustering) is based on the core idea of objects being more related to nearby objects than to objects farther away. These algorithms connect \"objects\" to form \"clusters\" based on their distance.\n",
    "\n",
    "K-Means (centroid-based clustering) and Density-Based Spatial Clustering of Applications with Noise (density-based clustering) are both categorized as non-hierarchical clustering methods."
   ]
  },
  {
   "attachments": {},
   "cell_type": "markdown",
   "metadata": {},
   "source": [
    "## 1. Euclidean Distance\n",
    "\n",
    "One common technique to determine clustering is to look for clusters of points by using a metric, or distance measure.\n",
    "\n",
    "Distance measures have following properties: Non negative, Self-proximity, Symmetry, and Triangle inequality.\n",
    "\n",
    "For example, one can use the [Euclidean Metric](https://en.wikipedia.org/wiki/Euclidean_distance) when all the data have the same units (such as distance) and dimensions. Other distance measures can be used in other cases to determine closeness or similarity, such as [Cosine Similarity](https://en.wikipedia.org/wiki/Cosine_similarity). Selection of an appropriate metric, especially for high dimensional data, is an important topic since we want to avoid the [Curse of Dimensionality](https://en.wikipedia.org/wiki/Curse_of_dimensionality).\n",
    "\n",
    "For this demonstration, we will primarily focus on Euclidean metric.\n",
    "\n",
    "Limitations of Euclidean metric:\n",
    "1. Normalization (Standardization) required;\n",
    "2. Independence of measurements: if two or more variables are correlated, the axes are no longer at right angles (see [Mahalonobis distance](https://www.statisticshowto.datasciencecentral.com/mahalanobis-distance/));\n",
    "3. Outliers: It is a matter of signal-to-noise. Euclidean distance, due to the squared terms, is particular sensitive to noise; but even Manhattan distance and \"fractional\" (non-metric) distances suffer. (see [Manhattan Distance](https://en.wikipedia.org/wiki/Taxicab_geometry))."
   ]
  },
  {
   "cell_type": "markdown",
   "metadata": {},
   "source": [
    "## 2. K-Means Algorithm\n",
    "\n",
    "Step 1 - Pick K random points as cluster centers called centroids.<br />\n",
    "Step 2 - Assign each x_ix i to nearest cluster by calculating its distance to each centroid.<br />\n",
    "Step 3 - Find new cluster center by taking the average of the assigned points.<br />\n",
    "Step 4 - Repeat Step 2 and 3 until none of the cluster assignments change.<br />"
   ]
  },
  {
   "cell_type": "markdown",
   "metadata": {},
   "source": [
    "## 3. DBSCAN Algorithm\n",
    "\n",
    "Step 1 - Pick a point at random that has not been assigned to a cluster or been designated as an outlier. Compute its neighborhood to determine if it’s a core point. If yes, start a cluster around this point. If no, label the point as an outlier.<br />\n",
    "Step 2 - Once we find a core point and thus a cluster, expand the cluster by adding all directly-reachable points to the cluster. Perform “neighborhood jumps” to find all density-reachable points and add them to the cluster. If an an outlier is added, change that point’s status from outlier to border point.<br />\n",
    "Step 3 - Repeat these two steps until all points are either assigned to a cluster or designated as an outlier.<br />"
   ]
  },
  {
   "cell_type": "markdown",
   "metadata": {},
   "source": [
    "## 4. Comparison between K-Means Algorithm and DBSCAN Algorithm"
   ]
  },
  {
   "cell_type": "markdown",
   "metadata": {},
   "source": [
    "DBSCAN's advantages compared to K-Means:\n",
    "1. DBSCAN does not require pre-specified input of the number of cluster while K-Means does.<br />\n",
    "2. DBSCAN can find arbitrarily shaped clusters, while k-means algorithm is good in capturing structure of the data if clusters have a spherical-like shape.<br />\n",
    "3. DBSCAN has a notion of noise, and is robust to outliers.<br />\n",
    "\n",
    "DBSCAN's disadvantages compared to K-Means:\n",
    "1. The performance of DBSCAN depends heavily on the parameter values.\n",
    "2. DBSCAN cannot cluster data sets well with large differences in densities, since the minPts-epsilon combination cannot then be chosen appropriately for all clusters.\n",
    "3. DBSCAN is not entirely deterministic: border points that are reachable from more than one cluster can be part of either cluster, depending on the order the data are processed.\n",
    "4. Like K-means, DBSCAN is scalable, but using it on very large datasets requires more memory and computing power."
   ]
  },
  {
   "cell_type": "markdown",
   "metadata": {},
   "source": [
    "## 5. Example\n",
    "\n",
    "In this example, we will examine both of these algorithms, using random generated clusters."
   ]
  },
  {
   "cell_type": "markdown",
   "metadata": {},
   "source": [
    "### 5.1 Data Preparation"
   ]
  },
  {
   "cell_type": "code",
   "execution_count": 1,
   "metadata": {},
   "outputs": [],
   "source": [
    "# Import modules\n",
    "import numpy as np\n",
    "import pandas as pd\n",
    "from sklearn.datasets import make_blobs\n",
    "from sklearn.cluster import KMeans\n",
    "from sklearn.cluster import DBSCAN\n",
    "import matplotlib.pyplot as plt\n",
    "import seaborn as sns\n",
    "import warnings\n",
    "\n",
    "plt.figure(num=None, figsize=(8, 6), dpi=80, facecolor='w', edgecolor='k')\n",
    "warnings.filterwarnings(\"ignore\")"
   ]
  },
  {
   "cell_type": "code",
   "execution_count": 2,
   "metadata": {},
   "outputs": [
    {
     "data": {
      "image/png": "[encoded data removed]",
      "text/plain": [
       "<Figure size 432x288 with 1 Axes>"
      ]
     },
     "metadata": {
      "needs_background": "light"
     },
     "output_type": "display_data"
    }
   ],
   "source": [
    "# Generate random clusters\n",
    "X, y = make_blobs(random_state=170, n_samples=600, centers = 5)\n",
    "rng = np.random.RandomState(74)\n",
    "\n",
    "# Transform data\n",
    "transformation = rng.normal(size=(2, 2))\n",
    "X = np.dot(X, transformation)\n",
    "\n",
    "# Plot\n",
    "plt.scatter(X[:, 0], X[:, 1], c=\"silver\")\n",
    "plt.xlabel(\"Feature 0\")\n",
    "plt.ylabel(\"Feature 1\")\n",
    "plt.show()"
   ]
  },
  {
   "cell_type": "markdown",
   "metadata": {},
   "source": [
    "### 5.2 DBSCAN"
   ]
  },
  {
   "cell_type": "code",
   "execution_count": 3,
   "metadata": {},
   "outputs": [
    {
     "name": "stdout",
     "output_type": "stream",
     "text": [
      "[-1  0  1  2  3  4]\n",
      "[(-1, 'silver'), (0, 'gold'), (1, 'red'), (2, 'blue'), (3, 'green'), (4, 'purple')]\n"
     ]
    },
    {
     "data": {
      "text/plain": [
       "Text(0.5, 1.0, 'DBSCAN')"
      ]
     },
     "execution_count": 3,
     "metadata": {},
     "output_type": "execute_result"
    },
    {
     "data": {
      "image/png": "[encoded data removed]",
      "text/plain": [
       "<Figure size 432x288 with 1 Axes>"
      ]
     },
     "metadata": {
      "needs_background": "light"
     },
     "output_type": "display_data"
    }
   ],
   "source": [
    "# DBSCAN for the randomly generated cluster data above\n",
    "dbsc = DBSCAN(eps = 0.55, min_samples = 5).fit(X)\n",
    "\n",
    "# Get the cluster labels\n",
    "labels = dbsc.labels_\n",
    "\n",
    "# Identify the core and border points\n",
    "core_samples = np.zeros_like(labels, dtype = bool)\n",
    "core_samples[dbsc.core_sample_indices_] = True\n",
    "\n",
    "unique_labels = np.unique(labels)\n",
    "print(unique_labels)\n",
    "colors = [\"silver\", \"gold\", \"red\", \"blue\", \"green\", \"purple\"]\n",
    "print(list(zip(unique_labels, colors)))\n",
    "\n",
    "for (label, color) in zip(unique_labels, colors):\n",
    "    class_member_mask = (labels == label)\n",
    "    xy = X[class_member_mask & core_samples]\n",
    "    plt.plot(xy[:,0], xy[:,1], 'o', markeredgewidth=0.0, markerfacecolor=color, markersize=5)\n",
    "    xy2 = X[class_member_mask & ~core_samples]\n",
    "    plt.plot(xy2[:,0], xy2[:,1], 'o', markeredgewidth=0.0, markerfacecolor=color, markersize=5)\n",
    "    \n",
    "plt.title(\"DBSCAN\")"
   ]
  },
  {
   "cell_type": "markdown",
   "metadata": {},
   "source": [
    "### 5.3 K-Means"
   ]
  },
  {
   "cell_type": "markdown",
   "metadata": {},
   "source": [
    "Inertia measures clustering quality:\n",
    "1. Measures how spread out the clusters are (lower is better)\n",
    "2. k-means attempts to minimize the inertia when choosing clusters\n",
    "3. \"Elbow Rules\" to decide the optimal number of clusters"
   ]
  },
  {
   "cell_type": "code",
   "execution_count": 4,
   "metadata": {},
   "outputs": [
    {
     "data": {
      "image/png": "[encoded data removed]",
      "text/plain": [
       "<Figure size 432x288 with 1 Axes>"
      ]
     },
     "metadata": {
      "needs_background": "light"
     },
     "output_type": "display_data"
    }
   ],
   "source": [
    "# Check inertia before k-means classification\n",
    "ks = range(1, 10)\n",
    "inertias = []\n",
    "\n",
    "for k in ks:\n",
    "    # Create a KMeans instance with k clusters: model\n",
    "    model = KMeans(n_clusters=k)\n",
    "    \n",
    "    # Fit model to samples\n",
    "    model.fit(X)\n",
    "    \n",
    "    # Append the inertia to the list of inertias\n",
    "    inertias.append(model.inertia_)\n",
    "    \n",
    "# Plot ks vs inertias\n",
    "plt.plot(ks, inertias, '-o')\n",
    "plt.xlabel('number of clusters, k')\n",
    "plt.ylabel('inertia')\n",
    "plt.xticks(ks)\n",
    "plt.show()"
   ]
  },
  {
   "cell_type": "code",
   "execution_count": 5,
   "metadata": {
    "scrolled": true
   },
   "outputs": [
    {
     "name": "stdout",
     "output_type": "stream",
     "text": [
      "[0 1 2 3]\n",
      "[(0, 'silver'), (1, 'gold'), (2, 'red'), (3, 'blue')]\n"
     ]
    },
    {
     "data": {
      "text/plain": [
       "Text(0.5, 1.0, 'K-Means with four clusters')"
      ]
     },
     "execution_count": 5,
     "metadata": {},
     "output_type": "execute_result"
    },
    {
     "data": {
      "image/png": "[encoded data removed]",
      "text/plain": [
       "<Figure size 432x288 with 1 Axes>"
      ]
     },
     "metadata": {
      "needs_background": "light"
     },
     "output_type": "display_data"
    }
   ],
   "source": [
    "# k-means for the randomly generated cluster data above: number of clusters = 4 by the elbow method\n",
    "from sklearn.cluster import KMeans\n",
    "\n",
    "kmeans_moons = KMeans(n_clusters = 4).fit(X)\n",
    "labels = kmeans_moons.labels_\n",
    "\n",
    "unique_labels = np.unique(labels)\n",
    "print(unique_labels)\n",
    "colors = [\"silver\", \"gold\", \"red\", \"blue\", \"green\"]\n",
    "print(list(zip(unique_labels, colors)))\n",
    "\n",
    "for (label, color) in zip(unique_labels, colors):\n",
    "    class_member_mask = (labels == label)\n",
    "    xy = X[class_member_mask & core_samples]\n",
    "    plt.plot(xy[:,0], xy[:,1], 'o', markeredgewidth=0.0, markerfacecolor=color, markersize=5)\n",
    "    xy2 = X[class_member_mask & ~core_samples]\n",
    "    plt.plot(xy2[:,0], xy2[:,1], 'o', markeredgewidth=0.0, markerfacecolor=color, markersize=5)\n",
    "    \n",
    "plt.title(\"K-Means with four clusters\")"
   ]
  },
  {
   "cell_type": "code",
   "execution_count": 6,
   "metadata": {},
   "outputs": [
    {
     "name": "stdout",
     "output_type": "stream",
     "text": [
      "[0 1 2 3 4]\n",
      "[(0, 'silver'), (1, 'gold'), (2, 'red'), (3, 'blue'), (4, 'green')]\n"
     ]
    },
    {
     "data": {
      "text/plain": [
       "Text(0.5, 1.0, 'K-Means with five clusters')"
      ]
     },
     "execution_count": 6,
     "metadata": {},
     "output_type": "execute_result"
    },
    {
     "data": {
      "image/png": "[encoded data removed]",
      "text/plain": [
       "<Figure size 432x288 with 1 Axes>"
      ]
     },
     "metadata": {
      "needs_background": "light"
     },
     "output_type": "display_data"
    }
   ],
   "source": [
    "# k-means for the randomly generated cluster data above: number of clusters = 5 (picked the same number of clusters as DBSCAN)\n",
    "from sklearn.cluster import KMeans\n",
    "\n",
    "kmeans_moons = KMeans(n_clusters = 5).fit(X)\n",
    "labels = kmeans_moons.labels_\n",
    "\n",
    "unique_labels = np.unique(labels)\n",
    "print(unique_labels)\n",
    "colors = [\"silver\", \"gold\", \"red\", \"blue\", \"green\", \"purple\"]\n",
    "print(list(zip(unique_labels, colors)))\n",
    "\n",
    "for (label, color) in zip(unique_labels, colors):\n",
    "    class_member_mask = (labels == label)\n",
    "    xy = X[class_member_mask & core_samples]\n",
    "    plt.plot(xy[:,0], xy[:,1], 'o', markeredgewidth=0.0, markerfacecolor=color, markersize=5)\n",
    "    xy2 = X[class_member_mask & ~core_samples]\n",
    "    plt.plot(xy2[:,0], xy2[:,1], 'o', markeredgewidth=0.0, markerfacecolor=color, markersize=5)\n",
    "    \n",
    "plt.title(\"K-Means with five clusters\")"
   ]
  },
  {
   "cell_type": "markdown",
   "metadata": {},
   "source": [
    "### 5.4  Summary:\n",
    "\n",
    "Both DBSCAN and k-means are applied for the randomly generated cluster data above (plots are shown below). DBSCAN generates 5 clusters with parameters eps = 0.55 and min_samples = 5. For k-means, the number of clusters are set to be 4 (according to the elbow method) and 5 (the same as DBSCAN's) to see if there is any difference between two algorithms.__\n",
    "There is an obvious difference in the outputs. DBSCAN managed to separate 5 clusters, and from our visual intuition, there are clearly 5 clusters. However, k-means with number of clusters either 4 or 5 did not do the job, since there are massive amount of misclassification.\n",
    "\n",
    "The reason behind this is because of two major differences between DBSCAN and k-means:\n",
    "1. DBSCAN can find arbitrarily shaped clusters, while k-means algorithm is good in capturing structure of the data if clusters have a spherical-like shape.\n",
    "2. DBSCAN has a notion of noise, and is robust to outliers.\n",
    "\n",
    "Thus DBSCAN outperforms k-means in this particular shape of data (arbitrarily shaped with similar densities among clusters). However, the performance of DBSCAN depends heavily on the parameter values."
   ]
  },
  {
   "cell_type": "code",
   "execution_count": null,
   "metadata": {},
   "outputs": [],
   "source": []
  }
 ],
 "metadata": {
  "kernelspec": {
   "display_name": "Python 3",
   "language": "python",
   "name": "python3"
  },
  "language_info": {
   "codemirror_mode": {
    "name": "ipython",
    "version": 3
   },
   "file_extension": ".py",
   "mimetype": "text/x-python",
   "name": "python",
   "nbconvert_exporter": "python",
   "pygments_lexer": "ipython3",
   "version": "3.6.7rc2"
  }
 },
 "nbformat": 4,
 "nbformat_minor": 2
}
